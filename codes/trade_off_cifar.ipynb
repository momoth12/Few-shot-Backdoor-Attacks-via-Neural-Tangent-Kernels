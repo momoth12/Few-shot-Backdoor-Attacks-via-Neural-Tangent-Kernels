{
 "cells": [
  {
   "cell_type": "markdown",
   "metadata": {},
   "source": [
    "# Evaluating ASR in the cifar dataset"
   ]
  },
  {
   "cell_type": "code",
   "execution_count": 1,
   "metadata": {},
   "outputs": [
    {
     "name": "stdout",
     "output_type": "stream",
     "text": [
      "Files already downloaded and verified\n",
      "Files already downloaded and verified\n"
     ]
    }
   ],
   "source": [
    "import torch\n",
    "import torch.nn as nn\n",
    "import torch.optim as optim\n",
    "from torchvision import datasets, transforms\n",
    "from torch.utils.data import DataLoader, TensorDataset, Subset\n",
    "import numpy as np\n",
    "import matplotlib.pyplot as plt\n",
    "from torch_models import WideResNet\n",
    "from sklearn.metrics import accuracy_score\n",
    "\n",
    "# Device configuration\n",
    "device = torch.device('cuda' if torch.cuda.is_available() else 'cpu')\n",
    "\n",
    "# Load CIFAR-10 dataset with transforms\n",
    "transform = transforms.Compose([transforms.ToTensor()])\n",
    "train_dataset = datasets.CIFAR10(root='./data', train=True, transform=transform, download=True)\n",
    "test_dataset = datasets.CIFAR10(root='./data', train=False, transform=transform, download=True)\n",
    "\n",
    "# Class indices for source and target\n",
    "source_class, target_class = 9, 4  # For example, \"truck\" -> \"deer\"\n",
    "poison_counts = [1, 5, 25, 50, 100,200, 500, 1000]  # Different poison counts for testing\n",
    "\n",
    "# Trigger function\n",
    "def add_trigger(image):\n",
    "    \"\"\"Add a small white square trigger to the bottom right corner.\"\"\"\n",
    "    image[:, -3:, -3:] = 1.0  # Small white patch\n",
    "    return image\n",
    "\n",
    "# Function to create poisoned data for training\n",
    "def create_poisoned_data(data, labels, source_class, target_class, poison_count):\n",
    "    poisoned_data, poisoned_labels = [], []\n",
    "    for img, label in zip(data, labels):\n",
    "        if label == source_class and len(poisoned_data) < poison_count:\n",
    "            poisoned_data.append(add_trigger(img))\n",
    "            poisoned_labels.append(target_class)\n",
    "    return torch.stack(poisoned_data), torch.tensor(poisoned_labels)\n",
    "\n",
    "# Function to create triggered test data from the source class\n",
    "def create_trigger_test_data_sampling(source_class, number_images):\n",
    "    poisoned_data = []\n",
    "    for img, label in test_dataset:\n",
    "        if label == source_class:\n",
    "            poisoned_data.append(add_trigger(img))\n",
    "            if len(poisoned_data) >= number_images:\n",
    "                break\n",
    "    return torch.stack(poisoned_data)\n",
    "\n",
    "# Model training function\n",
    "def train_model(model, train_loader, optimizer, criterion, epochs=5):\n",
    "    model.train()\n",
    "    for epoch in range(epochs):\n",
    "        print(f\"Epoch {epoch+1}/{epochs}\")\n",
    "        for inputs, targets in train_loader:\n",
    "            inputs, targets = inputs.to(device), targets.to(device)\n",
    "            optimizer.zero_grad()\n",
    "            outputs = model(inputs)\n",
    "            loss = criterion(outputs, targets)\n",
    "            loss.backward()\n",
    "            optimizer.step()\n",
    "\n",
    "def evaluate_accuracy(model, clean_loader):\n",
    "    model.eval()\n",
    "    all_preds, all_labels = [], []\n",
    "    with torch.no_grad():\n",
    "        for inputs, labels in clean_loader:\n",
    "            inputs, labels = inputs.to(device), labels.to(device)\n",
    "            outputs = model(inputs)\n",
    "            preds = torch.argmax(outputs, dim=1)\n",
    "            all_preds.extend(preds.cpu().numpy())\n",
    "            all_labels.extend(labels.cpu().numpy())\n",
    "    acc = accuracy_score(all_labels, all_preds)\n",
    "    return acc\n",
    "        \n",
    "\n",
    "# ASR evaluation function using triggered test data\n",
    "def evaluate_asr(model, test_loader, target_label):\n",
    "    model.eval()\n",
    "    correct = 0\n",
    "    total = 0\n",
    "    with torch.no_grad():\n",
    "        for inputs in test_loader:\n",
    "            inputs = inputs.to(device)\n",
    "            poisoned_inputs = add_trigger(inputs)  # Apply the trigger to the whole batch\n",
    "            outputs = model(poisoned_inputs)\n",
    "            preds = torch.argmax(outputs, dim=1)\n",
    "            correct += (preds == target_label).sum().item()\n",
    "            total += inputs.size(0)\n",
    "    asr = correct / total\n",
    "    return asr"
   ]
  },
  {
   "cell_type": "code",
   "execution_count": 2,
   "metadata": {},
   "outputs": [
    {
     "data": {
      "text/plain": [
       "Dataset CIFAR10\n",
       "    Number of datapoints: 50000\n",
       "    Root location: ./data\n",
       "    Split: Train\n",
       "    StandardTransform\n",
       "Transform: Compose(\n",
       "               ToTensor()\n",
       "           )"
      ]
     },
     "execution_count": 2,
     "metadata": {},
     "output_type": "execute_result"
    }
   ],
   "source": [
    "train_dataset"
   ]
  },
  {
   "cell_type": "code",
   "execution_count": 3,
   "metadata": {},
   "outputs": [],
   "source": [
    "poisoned_test_data = create_trigger_test_data_sampling(source_class, 1000).to(device)"
   ]
  },
  {
   "cell_type": "code",
   "execution_count": 4,
   "metadata": {},
   "outputs": [
    {
     "name": "stdout",
     "output_type": "stream",
     "text": [
      "---------------------------------------\n",
      "Poison count: 1\n",
      "Epoch 1/5\n",
      "Epoch 2/5\n",
      "Epoch 3/5\n",
      "Epoch 4/5\n",
      "Epoch 5/5\n",
      "ASR: 0.0000\n",
      "ACC: 0.7315\n",
      "---------------------------------------\n",
      "Poison count: 5\n",
      "Epoch 1/5\n",
      "Epoch 2/5\n",
      "Epoch 3/5\n",
      "Epoch 4/5\n",
      "Epoch 5/5\n",
      "ASR: 0.0000\n",
      "ACC: 0.7855\n",
      "---------------------------------------\n",
      "Poison count: 25\n",
      "Epoch 1/5\n",
      "Epoch 2/5\n",
      "Epoch 3/5\n",
      "Epoch 4/5\n",
      "Epoch 5/5\n",
      "ASR: 0.0800\n",
      "ACC: 0.7644\n",
      "---------------------------------------\n",
      "Poison count: 50\n",
      "Epoch 1/5\n",
      "Epoch 2/5\n",
      "Epoch 3/5\n",
      "Epoch 4/5\n",
      "Epoch 5/5\n",
      "ASR: 0.0000\n",
      "ACC: 0.6912\n",
      "---------------------------------------\n",
      "Poison count: 100\n",
      "Epoch 1/5\n",
      "Epoch 2/5\n",
      "Epoch 3/5\n",
      "Epoch 4/5\n",
      "Epoch 5/5\n",
      "ASR: 0.0700\n",
      "ACC: 0.7130\n",
      "---------------------------------------\n",
      "Poison count: 200\n",
      "Epoch 1/5\n",
      "Epoch 2/5\n",
      "Epoch 3/5\n",
      "Epoch 4/5\n",
      "Epoch 5/5\n",
      "ASR: 0.0000\n",
      "ACC: 0.7574\n",
      "---------------------------------------\n",
      "Poison count: 500\n",
      "Epoch 1/5\n",
      "Epoch 2/5\n",
      "Epoch 3/5\n",
      "Epoch 4/5\n",
      "Epoch 5/5\n",
      "ASR: 0.0100\n",
      "ACC: 0.7772\n",
      "---------------------------------------\n",
      "Poison count: 1000\n",
      "Epoch 1/5\n",
      "Epoch 2/5\n",
      "Epoch 3/5\n",
      "Epoch 4/5\n",
      "Epoch 5/5\n",
      "ASR: 0.0700\n",
      "ACC: 0.7709\n"
     ]
    }
   ],
   "source": [
    "\n",
    "\n",
    "# Prepare results storage\n",
    "results = {'poison_count': [], 'asr': [], 'acc': []}\n",
    "\n",
    "# Train and evaluate for each poison count\n",
    "for poison_count in poison_counts:\n",
    "    print(\"---------------------------------------\")\n",
    "    print(f\"Poison count: {poison_count}\")\n",
    "\n",
    "    # Prepare training data\n",
    "    train_data,train_labels = torch.stack([img for img, _ in train_dataset]), torch.tensor([label for _, label in train_dataset])\n",
    "    \n",
    "    poisons, labels = create_poisoned_data(train_data, train_labels, source_class, target_class, poison_count) #poisoned dataset\n",
    "\n",
    "    combined_data = torch.cat([train_data, poisons], dim=0)\n",
    "    combined_labels = torch.cat([train_labels, labels], dim=0)\n",
    "    # Aggregate clean and poisoned data for training\n",
    "    poisoned_loader =DataLoader(TensorDataset(combined_data, combined_labels), batch_size=64, shuffle=True)\n",
    "    \n",
    "    \n",
    "    # Initialize and train the model\n",
    "    model = WideResNet(depth=16, width=3, num_classes=10).to(device)\n",
    "    optimizer = optim.Adam(model.parameters(), lr=0.001)\n",
    "    criterion = nn.CrossEntropyLoss()\n",
    "    train_model(model, poisoned_loader, optimizer, criterion, epochs=5)\n",
    "    #Evaluate the model\n",
    "    test_loader = DataLoader(test_dataset, batch_size=64, shuffle=False)\n",
    "    acc = evaluate_accuracy(model, test_loader)\n",
    "    results['acc'].append(acc)\n",
    "    \n",
    "\n",
    "    \n",
    "    # Prepare triggered test data and evaluate ASR\n",
    "    poisoned_test_data = create_trigger_test_data_sampling(source_class, 100)  # Specify number of test samples\n",
    "    test_asr_loader = DataLoader(poisoned_test_data, batch_size=64, shuffle=False)\n",
    "    asr = evaluate_asr(model, test_asr_loader, target_class)\n",
    "\n",
    "    \n",
    "    # Log results\n",
    "    results['poison_count'].append(poison_count)\n",
    "    results['asr'].append(asr)\n",
    "    print(f\"ASR: {asr:.4f}\")\n",
    "    print(f\"ACC: {acc:.4f}\")\n",
    "\n",
    "\n"
   ]
  },
  {
   "cell_type": "code",
   "execution_count": 5,
   "metadata": {},
   "outputs": [
    {
     "data": {
      "text/plain": [
       "{'poison_count': [1, 5, 25, 50, 100, 200, 500, 1000],\n",
       " 'asr': [0.0, 0.0, 0.08, 0.0, 0.07, 0.0, 0.01, 0.07],\n",
       " 'acc': [0.7315, 0.7855, 0.7644, 0.6912, 0.713, 0.7574, 0.7772, 0.7709]}"
      ]
     },
     "execution_count": 5,
     "metadata": {},
     "output_type": "execute_result"
    }
   ],
   "source": [
    "results"
   ]
  },
  {
   "cell_type": "code",
   "execution_count": 6,
   "metadata": {},
   "outputs": [
    {
     "data": {
      "image/png": "[encoded data removed]",
      "text/plain": [
       "<Figure size 1000x600 with 1 Axes>"
      ]
     },
     "metadata": {},
     "output_type": "display_data"
    }
   ],
   "source": [
    "poison_counts = results['poison_count']\n",
    "asr_values = results['asr']\n",
    "acc_values = results['acc']\n",
    "import matplotlib.pyplot as plt  \n",
    "plt.figure(figsize=(10, 6))\n",
    "plt.plot(poison_counts, asr_values, marker='o', label='ASR')  # ASR line\n",
    "plt.plot(poison_counts, acc_values, marker='s', label='Accuracy')  # Accuracy line\n",
    "plt.show()"
   ]
  },
  {
   "cell_type": "code",
   "execution_count": 7,
   "metadata": {},
   "outputs": [],
   "source": [
    "train_data,train_labels = torch.stack([img for img, _ in train_dataset]), torch.tensor([label for _, label in train_dataset])\n",
    "#counting labels for source class 9\n",
    "count = 0\n",
    "for i in train_labels:\n",
    "    if i == 9:\n",
    "        count += 1\n"
   ]
  },
  {
   "cell_type": "code",
   "execution_count": 9,
   "metadata": {},
   "outputs": [
    {
     "data": {
      "text/plain": [
       "10000"
      ]
     },
     "execution_count": 9,
     "metadata": {},
     "output_type": "execute_result"
    }
   ],
   "source": [
    "len(test_dataset)"
   ]
  },
  {
   "cell_type": "code",
   "execution_count": null,
   "metadata": {},
   "outputs": [],
   "source": []
  }
 ],
 "metadata": {
  "kernelspec": {
   "display_name": "Python 3",
   "language": "python",
   "name": "python3"
  },
  "language_info": {
   "codemirror_mode": {
    "name": "ipython",
    "version": 3
   },
   "file_extension": ".py",
   "mimetype": "text/x-python",
   "name": "python",
   "nbconvert_exporter": "python",
   "pygments_lexer": "ipython3",
   "version": "3.10.7"
  }
 },
 "nbformat": 4,
 "nbformat_minor": 2
}
